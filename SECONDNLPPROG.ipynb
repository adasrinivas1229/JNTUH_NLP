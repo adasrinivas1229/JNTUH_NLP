{
  "nbformat": 4,
  "nbformat_minor": 0,
  "metadata": {
    "colab": {
      "provenance": [],
      "authorship_tag": "ABX9TyPcS3XP8PdhkQV2QYR3VF6J",
      "include_colab_link": true
    },
    "kernelspec": {
      "name": "python3",
      "display_name": "Python 3"
    },
    "language_info": {
      "name": "python"
    }
  },
  "cells": [
    {
      "cell_type": "markdown",
      "metadata": {
        "id": "view-in-github",
        "colab_type": "text"
      },
      "source": [
        "<a href=\"https://colab.research.google.com/github/adasrinivas1229/JNTUH_NLP/blob/main/SECONDNLPPROG.ipynb\" target=\"_parent\"><img src=\"https://colab.research.google.com/assets/colab-badge.svg\" alt=\"Open In Colab\"/></a>"
      ]
    },
    {
      "cell_type": "markdown",
      "source": [
        "## Here's a simple Python program that generates new words using NLP:"
      ],
      "metadata": {
        "id": "GA6NpUsAr479"
      }
    },
    {
      "cell_type": "markdown",
      "source": [
        "## write a python program for word generation  in nlp ?\n"
      ],
      "metadata": {
        "id": "qNoSBhwz8_8q"
      }
    },
    {
      "cell_type": "markdown",
      "source": [
        "## Here's a simple Python program for word generation in NLP using Markov Chain based language modeling:"
      ],
      "metadata": {
        "id": "V_b8VPglTMwF"
      }
    },
    {
      "cell_type": "code",
      "source": [
        "# Importing the necessary libraries\n",
        "import nltk\n",
        "import random\n",
        "from nltk.corpus import words\n",
        "nltk.download('words')\n",
        "  \n",
        "\n",
        "# Generating a random word from the corpus\n",
        "random_word = random.choice(words.words())\n",
        "\n",
        "# Printing the generated random word\n",
        "print(\"The randomly generated word is:\", random_word)"
      ],
      "metadata": {
        "colab": {
          "base_uri": "https://localhost:8080/"
        },
        "id": "rXnssHw4Ht4f",
        "outputId": "f4f4a94a-a4a4-4aea-958f-8fd1f3c75ac3"
      },
      "execution_count": null,
      "outputs": [
        {
          "output_type": "stream",
          "name": "stdout",
          "text": [
            "The randomly generated word is: Coquitlam\n"
          ]
        },
        {
          "output_type": "stream",
          "name": "stderr",
          "text": [
            "[nltk_data] Downloading package words to /root/nltk_data...\n",
            "[nltk_data]   Package words is already up-to-date!\n"
          ]
        }
      ]
    },
    {
      "cell_type": "markdown",
      "source": [],
      "metadata": {
        "id": "p0S5p2OGS_oG"
      }
    },
    {
      "cell_type": "code",
      "source": [
        "import random\n",
        "import nltk\n",
        "from nltk.util import ngrams\n",
        "\n",
        "# Sample text\n",
        "text = \"Natural language processing (NLP) is the ability of a computer program to understand human language as it is spoken.\"\n",
        "\n",
        "# Tokenize the text into words\n",
        "tokens = nltk.word_tokenize(text)\n",
        "\n",
        "# Generate trigrams from the tokens\n",
        "trigrams = list(ngrams(tokens, 3))\n",
        "\n",
        "# Create a dictionary to store the next word for each pair of two consecutive words\n",
        "model = {}\n",
        "for w1, w2, w3 in trigrams:\n",
        "    key = (w1, w2)\n",
        "    if key in model:\n",
        "        model[key].append(w3)\n",
        "    else:\n",
        "        model[key] = [w3]\n",
        "\n",
        "# Generate a new text by starting with a random bigram and repeatedly selecting the next word based on the model\n",
        "generated_text = []\n",
        "current_bigram = random.choice(list(model.keys()))\n",
        "generated_text.extend(list(current_bigram))\n",
        "while True:\n",
        "    next_word = random.choice(model[current_bigram])\n",
        "    generated_text.append(next_word)\n",
        "    current_bigram = (current_bigram[1], next_word)\n",
        "    if current_bigram not in model:\n",
        "        break\n",
        "\n",
        "# Print the generated text\n",
        "print(\"Generated text:\")\n",
        "print(\" \".join(generated_text))\n"
      ],
      "metadata": {
        "colab": {
          "base_uri": "https://localhost:8080/"
        },
        "id": "RQXjHUkNS1ro",
        "outputId": "5f77a156-859c-4e0d-848f-339f149ad582"
      },
      "execution_count": null,
      "outputs": [
        {
          "output_type": "stream",
          "name": "stdout",
          "text": [
            "Generated text:\n",
            "language as it is spoken .\n"
          ]
        }
      ]
    },
    {
      "cell_type": "markdown",
      "source": [
        "This program uses the word_tokenize function from the nltk module to split the text into words. It then generates trigrams (triplets of words) from the tokens using the ngrams function. A dictionary is created to store the next word for each pair of two consecutive words in the trigrams.\n",
        "\n",
        "The generated text is produced by starting with a random bigram from the model, and repeatedly selecting the next word based on the model. The next bigram is formed by taking the second word of the current bigram and the selected next word. If the next bigram is not in the model, the generation is stopped.\n",
        "\n",
        "The generated text is then printed. Note that the generated text may not make complete sense or be grammatically correct, as the model is based only on the patterns in the training text and does not have any understanding of meaning or grammar.\n",
        "\n",
        "\n",
        "\n",
        "\n"
      ],
      "metadata": {
        "id": "7Urww2Y2TPzV"
      }
    },
    {
      "cell_type": "code",
      "source": [],
      "metadata": {
        "id": "KBvZ8NVoTWrP"
      },
      "execution_count": null,
      "outputs": []
    }
  ]
}