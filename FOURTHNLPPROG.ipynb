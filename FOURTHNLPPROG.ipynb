{
  "nbformat": 4,
  "nbformat_minor": 0,
  "metadata": {
    "colab": {
      "provenance": [],
      "authorship_tag": "ABX9TyOJusjxYNjvYfD6or8zYEbp",
      "include_colab_link": true
    },
    "kernelspec": {
      "name": "python3",
      "display_name": "Python 3"
    },
    "language_info": {
      "name": "python"
    }
  },
  "cells": [
    {
      "cell_type": "markdown",
      "metadata": {
        "id": "view-in-github",
        "colab_type": "text"
      },
      "source": [
        "<a href=\"https://colab.research.google.com/github/adasrinivas1229/JNTUH_NLP/blob/main/FOURTHNLPPROG.ipynb\" target=\"_parent\"><img src=\"https://colab.research.google.com/assets/colab-badge.svg\" alt=\"Open In Colab\"/></a>"
      ]
    },
    {
      "cell_type": "code",
      "execution_count": null,
      "metadata": {
        "id": "AT8FnrAyCeAO"
      },
      "outputs": [],
      "source": []
    },
    {
      "cell_type": "markdown",
      "source": [
        "Here's a simple Python program that generates N-grams in NLP:"
      ],
      "metadata": {
        "id": "VpLbdY3-CkoZ"
      }
    },
    {
      "cell_type": "code",
      "source": [
        "import nltk\n",
        "from nltk.util import ngrams\n",
        "nltk.download('punkt')\n",
        "  \n",
        "\n",
        "# Sample text\n",
        "text = \"Natural language processing (NLP) is the ability of a computer program to understand human language as it is spoken.\"\n",
        "\n",
        "# Tokenize the text into words\n",
        "tokens = nltk.word_tokenize(text)\n",
        "\n",
        "# Generate N-grams from the tokens\n",
        "N = 3\n",
        "ngrams_list = list(ngrams(tokens, N))\n",
        "\n",
        "# Print the N-grams\n",
        "print(\"The {}-grams are:\".format(N))\n",
        "for ngram in ngrams_list:\n",
        "    print(ngram)\n"
      ],
      "metadata": {
        "colab": {
          "base_uri": "https://localhost:8080/"
        },
        "id": "NVSWU1CxDLcg",
        "outputId": "4d22482a-ff96-4081-bb38-093b674a8694"
      },
      "execution_count": null,
      "outputs": [
        {
          "output_type": "stream",
          "name": "stderr",
          "text": [
            "[nltk_data] Downloading package punkt to /root/nltk_data...\n",
            "[nltk_data]   Unzipping tokenizers/punkt.zip.\n"
          ]
        },
        {
          "output_type": "stream",
          "name": "stdout",
          "text": [
            "The 3-grams are:\n",
            "('Natural', 'language', 'processing')\n",
            "('language', 'processing', '(')\n",
            "('processing', '(', 'NLP')\n",
            "('(', 'NLP', ')')\n",
            "('NLP', ')', 'is')\n",
            "(')', 'is', 'the')\n",
            "('is', 'the', 'ability')\n",
            "('the', 'ability', 'of')\n",
            "('ability', 'of', 'a')\n",
            "('of', 'a', 'computer')\n",
            "('a', 'computer', 'program')\n",
            "('computer', 'program', 'to')\n",
            "('program', 'to', 'understand')\n",
            "('to', 'understand', 'human')\n",
            "('understand', 'human', 'language')\n",
            "('human', 'language', 'as')\n",
            "('language', 'as', 'it')\n",
            "('as', 'it', 'is')\n",
            "('it', 'is', 'spoken')\n",
            "('is', 'spoken', '.')\n"
          ]
        }
      ]
    }
  ]
}