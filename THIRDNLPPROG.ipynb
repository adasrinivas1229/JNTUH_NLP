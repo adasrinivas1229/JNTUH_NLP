{
  "nbformat": 4,
  "nbformat_minor": 0,
  "metadata": {
    "colab": {
      "provenance": [],
      "authorship_tag": "ABX9TyN8eJyylx7RweSolmWmjzWT",
      "include_colab_link": true
    },
    "kernelspec": {
      "name": "python3",
      "display_name": "Python 3"
    },
    "language_info": {
      "name": "python"
    }
  },
  "cells": [
    {
      "cell_type": "markdown",
      "metadata": {
        "id": "view-in-github",
        "colab_type": "text"
      },
      "source": [
        "<a href=\"https://colab.research.google.com/github/adasrinivas1229/JNTUH_NLP/blob/main/THIRDNLPPROG.ipynb\" target=\"_parent\"><img src=\"https://colab.research.google.com/assets/colab-badge.svg\" alt=\"Open In Colab\"/></a>"
      ]
    },
    {
      "cell_type": "markdown",
      "source": [
        "## write a python program for Morphology"
      ],
      "metadata": {
        "id": "ADnA8cZz5tSL"
      }
    },
    {
      "cell_type": "markdown",
      "source": [
        "Morphology is the study of word structure and formation, including inflection and derivation. Here is a simple Python program that performs basic morphological operations, such as stemming and lemmatization, using the Natural Language Toolkit (NLTK) library:"
      ],
      "metadata": {
        "id": "mHE2eM5u6ERR"
      }
    },
    {
      "cell_type": "code",
      "source": [
        "import nltk\n",
        "from nltk.stem import PorterStemmer\n",
        "from nltk.tokenize import word_tokenize\n",
        "from nltk.stem import WordNetLemmatizer\n",
        "nltk.download('punkt')\n",
        "nltk.download('wordnet')\n",
        "nltk.download('omw-1.4')\n",
        "\n",
        "def perform_stemming(text):\n",
        "    stemmer = PorterStemmer()\n",
        "    stemmed_words = []\n",
        "    words = word_tokenize(text)\n",
        "    for word in words:\n",
        "        stemmed_words.append(stemmer.stem(word))\n",
        "    return stemmed_words\n",
        "\n",
        "def perform_lemmatization(text):\n",
        "    lemmatizer = WordNetLemmatizer()\n",
        "    lemmatized_words = []\n",
        "    words = word_tokenize(text)\n",
        "    for word in words:\n",
        "        lemmatized_words.append(lemmatizer.lemmatize(word))\n",
        "    return lemmatized_words\n",
        "\n",
        "text = \"This is an example sentence showing off the stemming and lemmatization in NLP\"\n",
        "\n",
        "stemmed_words = perform_stemming(text)\n",
        "print(\"Stemmed words:\", stemmed_words)\n",
        "\n",
        "lemmatized_words = perform_lemmatization(text)\n",
        "print(\"Lemmatized words:\", lemmatized_words)\n"
      ],
      "metadata": {
        "colab": {
          "base_uri": "https://localhost:8080/"
        },
        "id": "b43DXCjj57_3",
        "outputId": "5774a22a-4f63-431b-e74f-276afc55690d"
      },
      "execution_count": null,
      "outputs": [
        {
          "output_type": "stream",
          "name": "stderr",
          "text": [
            "[nltk_data] Downloading package punkt to /root/nltk_data...\n",
            "[nltk_data]   Package punkt is already up-to-date!\n",
            "[nltk_data] Downloading package wordnet to /root/nltk_data...\n",
            "[nltk_data]   Package wordnet is already up-to-date!\n",
            "[nltk_data] Downloading package omw-1.4 to /root/nltk_data...\n"
          ]
        },
        {
          "output_type": "stream",
          "name": "stdout",
          "text": [
            "Stemmed words: ['thi', 'is', 'an', 'exampl', 'sentenc', 'show', 'off', 'the', 'stem', 'and', 'lemmat', 'in', 'nlp']\n",
            "Lemmatized words: ['This', 'is', 'an', 'example', 'sentence', 'showing', 'off', 'the', 'stemming', 'and', 'lemmatization', 'in', 'NLP']\n"
          ]
        }
      ]
    },
    {
      "cell_type": "markdown",
      "source": [
        "in this program, we first tokenize the input text into words, and then perform stemming and lemmatization on each word. The PorterStemmer and WordNetLemmatizer classes from the NLTK library are used for this purpose. The resulting stemmed and lemmatized words are then returned and printed."
      ],
      "metadata": {
        "id": "TD2YET2W7anL"
      }
    }
  ]
}